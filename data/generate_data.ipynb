{
 "cells": [
  {
   "cell_type": "code",
   "execution_count": 6,
   "metadata": {},
   "outputs": [],
   "source": [
    "from pathlib import Path\n",
    "from sklearn.datasets import load_iris\n",
    "import pandas as pd"
   ]
  },
  {
   "cell_type": "code",
   "execution_count": 7,
   "metadata": {},
   "outputs": [
    {
     "name": "stdout",
     "output_type": "stream",
     "text": [
      "file iris_data.csv already exists\n"
     ]
    }
   ],
   "source": [
    "data_file_name = \"iris_data.csv\"\n",
    "if not Path(data_file_name).exists():\n",
    "    iris = load_iris(as_frame=True)\n",
    "    iris_df = pd.DataFrame(iris.data)\n",
    "    iris_df[\"target\"] = iris.target\n",
    "    iris_df.head()\n",
    "    iris_df.to_csv(\"iris_data.csv\")\n",
    "else:\n",
    "    print(f\"file {data_file_name} already exists\")"
   ]
  },
  {
   "cell_type": "code",
   "execution_count": null,
   "metadata": {},
   "outputs": [],
   "source": []
  }
 ],
 "metadata": {
  "kernelspec": {
   "display_name": "azureml_py310_sdkv2",
   "language": "python",
   "name": "python3"
  },
  "language_info": {
   "codemirror_mode": {
    "name": "ipython",
    "version": 3
   },
   "file_extension": ".py",
   "mimetype": "text/x-python",
   "name": "python",
   "nbconvert_exporter": "python",
   "pygments_lexer": "ipython3",
   "version": "3.10.14"
  }
 },
 "nbformat": 4,
 "nbformat_minor": 2
}
